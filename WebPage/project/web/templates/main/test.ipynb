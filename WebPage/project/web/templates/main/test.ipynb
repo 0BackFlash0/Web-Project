{
 "cells": [
  {
   "cell_type": "code",
   "execution_count": 1,
   "metadata": {},
   "outputs": [],
   "source": [
    "user = [{'id': '12341352', 'user_Lv': 5, 'user_Exp': 0}, {'id': '새싹이2', 'user_Lv': 4, 'user_Exp': 0}, {'id': 'q62341213564q', 'user_Lv': 3, 'user_Exp': 50}, {'id': '고도리', 'user_Lv': 2, 'user_Exp': 30}, {'id': '새싹이', 'user_Lv': 2, 'user_Exp': 20}, {'id': '23513246237', 'user_Lv': 1, 'user_Exp': 0}]"
   ]
  },
  {
   "cell_type": "code",
   "execution_count": 5,
   "metadata": {},
   "outputs": [
    {
     "name": "stdout",
     "output_type": "stream",
     "text": [
      "12341352\n",
      "새싹이2\n",
      "q62341213564q\n",
      "고도리\n",
      "새싹이\n",
      "23513246237\n"
     ]
    }
   ],
   "source": [
    "for i in user:\n",
    "    if g.user == i['id']:\n",
    "        print(i['id'])"
   ]
  },
  {
   "cell_type": "code",
   "execution_count": 15,
   "metadata": {},
   "outputs": [
    {
     "data": {
      "text/plain": [
       "[{'id': '새싹이2', 'user_Lv': 4, 'user_Exp': 0},\n",
       " {'id': 'q62341213564q', 'user_Lv': 3, 'user_Exp': 50},\n",
       " {'id': '고도리', 'user_Lv': 2, 'user_Exp': 30}]"
      ]
     },
     "execution_count": 15,
     "metadata": {},
     "output_type": "execute_result"
    }
   ],
   "source": [
    "user[1:4]"
   ]
  },
  {
   "cell_type": "code",
   "execution_count": 11,
   "metadata": {},
   "outputs": [
    {
     "name": "stdout",
     "output_type": "stream",
     "text": [
      "12341352\n",
      "5\n",
      "0\n",
      "새싹이2\n",
      "4\n",
      "0\n",
      "q62341213564q\n",
      "3\n",
      "50\n",
      "고도리\n",
      "2\n",
      "30\n",
      "새싹이\n",
      "2\n",
      "20\n",
      "23513246237\n",
      "1\n",
      "0\n"
     ]
    }
   ],
   "source": [
    "for i in user:\n",
    "    for k in i.values():\n",
    "        print(k)"
   ]
  },
  {
   "cell_type": "code",
   "execution_count": null,
   "metadata": {},
   "outputs": [],
   "source": []
  }
 ],
 "metadata": {
  "kernelspec": {
   "display_name": "Python 3.9.13 ('base')",
   "language": "python",
   "name": "python3"
  },
  "language_info": {
   "codemirror_mode": {
    "name": "ipython",
    "version": 3
   },
   "file_extension": ".py",
   "mimetype": "text/x-python",
   "name": "python",
   "nbconvert_exporter": "python",
   "pygments_lexer": "ipython3",
   "version": "3.9.13"
  },
  "orig_nbformat": 4,
  "vscode": {
   "interpreter": {
    "hash": "701d4f28dcd0866722f5108a3a4cbcd08882d26398b6d44117e791d7b8102912"
   }
  }
 },
 "nbformat": 4,
 "nbformat_minor": 2
}
