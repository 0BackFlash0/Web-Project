{
 "cells": [
  {
   "cell_type": "code",
   "execution_count": 1,
   "metadata": {},
   "outputs": [],
   "source": [
    "import module as mo\n"
   ]
  },
  {
   "cell_type": "code",
   "execution_count": 2,
   "metadata": {},
   "outputs": [],
   "source": [
    "df = mo.first()\n"
   ]
  },
  {
   "cell_type": "code",
   "execution_count": 3,
   "metadata": {},
   "outputs": [
    {
     "data": {
      "text/html": [
       "<div>\n",
       "<style scoped>\n",
       "    .dataframe tbody tr th:only-of-type {\n",
       "        vertical-align: middle;\n",
       "    }\n",
       "\n",
       "    .dataframe tbody tr th {\n",
       "        vertical-align: top;\n",
       "    }\n",
       "\n",
       "    .dataframe thead th {\n",
       "        text-align: right;\n",
       "    }\n",
       "</style>\n",
       "<table border=\"1\" class=\"dataframe\">\n",
       "  <thead>\n",
       "    <tr style=\"text-align: right;\">\n",
       "      <th></th>\n",
       "      <th>id</th>\n",
       "      <th>name</th>\n",
       "      <th>userid</th>\n",
       "      <th>psw</th>\n",
       "      <th>Lv</th>\n",
       "      <th>Exp</th>\n",
       "    </tr>\n",
       "  </thead>\n",
       "  <tbody>\n",
       "    <tr>\n",
       "      <th>0</th>\n",
       "      <td>6</td>\n",
       "      <td>고건영</td>\n",
       "      <td>012345</td>\n",
       "      <td>123451234</td>\n",
       "      <td>1</td>\n",
       "      <td>0</td>\n",
       "    </tr>\n",
       "    <tr>\n",
       "      <th>1</th>\n",
       "      <td>7</td>\n",
       "      <td>강지원</td>\n",
       "      <td>8262</td>\n",
       "      <td>0508</td>\n",
       "      <td>30</td>\n",
       "      <td>50</td>\n",
       "    </tr>\n",
       "    <tr>\n",
       "      <th>2</th>\n",
       "      <td>8</td>\n",
       "      <td>병정1</td>\n",
       "      <td>1234</td>\n",
       "      <td>5959</td>\n",
       "      <td>29</td>\n",
       "      <td>40</td>\n",
       "    </tr>\n",
       "    <tr>\n",
       "      <th>3</th>\n",
       "      <td>9</td>\n",
       "      <td>병정2</td>\n",
       "      <td>1254</td>\n",
       "      <td>6234</td>\n",
       "      <td>15</td>\n",
       "      <td>30</td>\n",
       "    </tr>\n",
       "    <tr>\n",
       "      <th>4</th>\n",
       "      <td>10</td>\n",
       "      <td>병정3</td>\n",
       "      <td>6234</td>\n",
       "      <td>3174</td>\n",
       "      <td>5</td>\n",
       "      <td>10</td>\n",
       "    </tr>\n",
       "    <tr>\n",
       "      <th>5</th>\n",
       "      <td>11</td>\n",
       "      <td>병정4</td>\n",
       "      <td>1461364</td>\n",
       "      <td>34163164</td>\n",
       "      <td>1</td>\n",
       "      <td>80</td>\n",
       "    </tr>\n",
       "    <tr>\n",
       "      <th>6</th>\n",
       "      <td>12</td>\n",
       "      <td>병정5</td>\n",
       "      <td>23612</td>\n",
       "      <td>12365</td>\n",
       "      <td>10</td>\n",
       "      <td>40</td>\n",
       "    </tr>\n",
       "  </tbody>\n",
       "</table>\n",
       "</div>"
      ],
      "text/plain": [
       "   id name   userid        psw  Lv  Exp\n",
       "0   6  고건영   012345  123451234   1    0\n",
       "1   7  강지원     8262       0508  30   50\n",
       "2   8  병정1     1234       5959  29   40\n",
       "3   9  병정2     1254       6234  15   30\n",
       "4  10  병정3     6234       3174   5   10\n",
       "5  11  병정4  1461364   34163164   1   80\n",
       "6  12  병정5    23612      12365  10   40"
      ]
     },
     "execution_count": 3,
     "metadata": {},
     "output_type": "execute_result"
    }
   ],
   "source": [
    "df"
   ]
  },
  {
   "cell_type": "code",
   "execution_count": null,
   "metadata": {},
   "outputs": [],
   "source": []
  },
  {
   "cell_type": "code",
   "execution_count": 37,
   "metadata": {},
   "outputs": [],
   "source": [
    "dic = df[['name','Lv','Exp']].sort_values(by=['Lv','Exp'],ascending=False)"
   ]
  },
  {
   "cell_type": "code",
   "execution_count": null,
   "metadata": {},
   "outputs": [],
   "source": [
    "df[['name','Lv','Exp']].sort_values()"
   ]
  },
  {
   "cell_type": "code",
   "execution_count": 41,
   "metadata": {},
   "outputs": [],
   "source": [
    "dic = dic.T.to_dict()"
   ]
  },
  {
   "cell_type": "code",
   "execution_count": 52,
   "metadata": {},
   "outputs": [
    {
     "name": "stdout",
     "output_type": "stream",
     "text": [
      "name 강지원 Lv 30 Exp 50 -----\n",
      "name 병정1 Lv 29 Exp 40 -----\n",
      "name 병정2 Lv 15 Exp 30 -----\n",
      "name 병정5 Lv 10 Exp 40 -----\n",
      "name 병정3 Lv 5 Exp 10 -----\n",
      "name 병정4 Lv 1 Exp 80 -----\n",
      "name 고건영 Lv 1 Exp 0 -----\n"
     ]
    }
   ],
   "source": [
    "for i,k in dic.items():\n",
    "    for j,h in k.items():\n",
    "        print(j,h,end=' ')\n",
    "    print('-----')"
   ]
  },
  {
   "cell_type": "code",
   "execution_count": null,
   "metadata": {},
   "outputs": [],
   "source": []
  },
  {
   "cell_type": "code",
   "execution_count": null,
   "metadata": {},
   "outputs": [],
   "source": []
  },
  {
   "cell_type": "code",
   "execution_count": 23,
   "metadata": {},
   "outputs": [
    {
     "data": {
      "text/plain": [
       "dict_values([{1: '강지원', 2: '병정1', 3: '병정2', 6: '병정5', 4: '병정3', 5: '병정4', 0: '고건영'}, {1: 30, 2: 29, 3: 15, 6: 10, 4: 5, 5: 1, 0: 1}, {1: 50, 2: 40, 3: 30, 6: 40, 4: 10, 5: 80, 0: 0}])"
      ]
     },
     "execution_count": 23,
     "metadata": {},
     "output_type": "execute_result"
    }
   ],
   "source": [
    "dic.values()"
   ]
  },
  {
   "cell_type": "code",
   "execution_count": 36,
   "metadata": {},
   "outputs": [
    {
     "data": {
      "text/plain": [
       "{'name': {1: '강지원',\n",
       "  2: '병정1',\n",
       "  3: '병정2',\n",
       "  6: '병정5',\n",
       "  4: '병정3',\n",
       "  5: '병정4',\n",
       "  0: '고건영'},\n",
       " 'Lv': {1: 30, 2: 29, 3: 15, 6: 10, 4: 5, 5: 1, 0: 1},\n",
       " 'Exp': {1: 50, 2: 40, 3: 30, 6: 40, 4: 10, 5: 80, 0: 0}}"
      ]
     },
     "execution_count": 36,
     "metadata": {},
     "output_type": "execute_result"
    }
   ],
   "source": [
    "dic"
   ]
  },
  {
   "cell_type": "code",
   "execution_count": 21,
   "metadata": {},
   "outputs": [
    {
     "data": {
      "text/plain": [
       "dict_items([('name', {1: '강지원', 2: '병정1', 3: '병정2', 6: '병정5', 4: '병정3', 5: '병정4', 0: '고건영'}), ('Lv', {1: 30, 2: 29, 3: 15, 6: 10, 4: 5, 5: 1, 0: 1}), ('Exp', {1: 50, 2: 40, 3: 30, 6: 40, 4: 10, 5: 80, 0: 0})])"
      ]
     },
     "execution_count": 21,
     "metadata": {},
     "output_type": "execute_result"
    }
   ],
   "source": [
    ")dic.items()"
   ]
  },
  {
   "cell_type": "code",
   "execution_count": null,
   "metadata": {},
   "outputs": [],
   "source": []
  }
 ],
 "metadata": {
  "kernelspec": {
   "display_name": "Python 3.9.13 ('base')",
   "language": "python",
   "name": "python3"
  },
  "language_info": {
   "codemirror_mode": {
    "name": "ipython",
    "version": 3
   },
   "file_extension": ".py",
   "mimetype": "text/x-python",
   "name": "python",
   "nbconvert_exporter": "python",
   "pygments_lexer": "ipython3",
   "version": "3.9.13 (main, Aug 25 2022, 18:29:29) \n[Clang 12.0.0 ]"
  },
  "orig_nbformat": 4,
  "vscode": {
   "interpreter": {
    "hash": "701d4f28dcd0866722f5108a3a4cbcd08882d26398b6d44117e791d7b8102912"
   }
  }
 },
 "nbformat": 4,
 "nbformat_minor": 2
}
